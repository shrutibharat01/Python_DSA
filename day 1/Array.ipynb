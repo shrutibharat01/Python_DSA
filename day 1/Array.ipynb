{
 "cells": [
  {
   "cell_type": "code",
   "execution_count": 3,
   "id": "36477085-5278-4cbf-8274-fe7e8a6898bf",
   "metadata": {},
   "outputs": [
    {
     "name": "stdout",
     "output_type": "stream",
     "text": [
      "22 [4, 7, -1, 6, -11, 14, 3, -1, -6]\n"
     ]
    }
   ],
   "source": [
    "# Maximum sum subarray\n",
    "L = [-2,4,7,-1,6,-11,14,3,-1,-6]\n",
    "\n",
    "curr_sum = 0\n",
    "best_sum = L[0]\n",
    "curr_subarray = []\n",
    "best_subarray = []\n",
    "\n",
    "for i in L:\n",
    "    if i + curr_sum > i:\n",
    "        curr_sum = curr_sum + i\n",
    "        curr_subarray.append(i)\n",
    "    else:\n",
    "        curr_sum = i\n",
    "        curr_subarray.clear()\n",
    "        curr_subarray.append(i)\n",
    "    if curr_sum > best_sum:\n",
    "        best_sum = curr_sum\n",
    "        best_subarray = curr_subarray\n",
    "print(best_sum, best_subarray)"
   ]
  },
  {
   "cell_type": "code",
   "execution_count": 10,
   "id": "fc5ca0b1-9ae6-47cb-84d4-e2167e24db41",
   "metadata": {},
   "outputs": [
    {
     "name": "stdout",
     "output_type": "stream",
     "text": [
      "[3, 3, 3, 5, 8, 8, 9]\n",
      "[3, 1, 2, 5, 8, 7, 9]\n",
      "[1, 1, 2, 5, 7, 7, 9]\n",
      "5\n"
     ]
    }
   ],
   "source": [
    "# Find element with left side smaller/right side greater in an array\n",
    "\n",
    "arr = [3,1,2,5,8,7,9]\n",
    "\n",
    "max_arr = []\n",
    "min_arr = []\n",
    "\n",
    "max_val = arr[0]\n",
    "min_val = arr[-1]\n",
    "\n",
    "for i in arr:\n",
    "    if i > max_val:\n",
    "        max_val = i\n",
    "    max_arr.append(max_val)\n",
    "\n",
    "for i in range(len(arr)-1, -1, -1):\n",
    "    if arr[i] < min_val:\n",
    "        min_val = arr[i]\n",
    "    min_arr.insert(0,min_val)\n",
    "\n",
    "print(max_arr)\n",
    "print(arr)\n",
    "print(min_arr)\n",
    "\n",
    "for i in range(1,len(arr)-1):\n",
    "    if max_arr[i-1] < arr[i] < min_arr[i+1]:\n",
    "        print(arr[i])"
   ]
  },
  {
   "cell_type": "code",
   "execution_count": null,
   "id": "adfcf352-54aa-4414-a9a7-19d024dee137",
   "metadata": {},
   "outputs": [],
   "source": []
  },
  {
   "cell_type": "code",
   "execution_count": null,
   "id": "8e9f3d97-67c6-4dea-8654-96feca1edde2",
   "metadata": {},
   "outputs": [],
   "source": []
  },
  {
   "cell_type": "code",
   "execution_count": null,
   "id": "92c7aa56-550e-43b2-bf34-d854b17d7d1f",
   "metadata": {},
   "outputs": [],
   "source": []
  },
  {
   "cell_type": "code",
   "execution_count": null,
   "id": "1c926eea-c7a7-4c39-8510-884ee35d5f3d",
   "metadata": {},
   "outputs": [],
   "source": []
  }
 ],
 "metadata": {
  "kernelspec": {
   "display_name": "Python 3 (ipykernel)",
   "language": "python",
   "name": "python3"
  },
  "language_info": {
   "codemirror_mode": {
    "name": "ipython",
    "version": 3
   },
   "file_extension": ".py",
   "mimetype": "text/x-python",
   "name": "python",
   "nbconvert_exporter": "python",
   "pygments_lexer": "ipython3",
   "version": "3.11.7"
  }
 },
 "nbformat": 4,
 "nbformat_minor": 5
}
